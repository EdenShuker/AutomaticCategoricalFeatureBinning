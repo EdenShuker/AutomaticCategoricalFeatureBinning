{
 "cells": [
  {
   "cell_type": "code",
   "execution_count": 4,
   "outputs": [],
   "source": [
    "dataset_to_target = {\n",
    "    # 'banking': 'y',\n",
    "    # 'churn_modeling': 'Exited'\n",
    "    # 'home_credit_risk': 'Target',\n",
    "    'titanic': 'Survived'\n",
    "}"
   ],
   "metadata": {
    "collapsed": false
   }
  },
  {
   "cell_type": "code",
   "execution_count": 5,
   "outputs": [
    {
     "name": "stderr",
     "output_type": "stream",
     "text": [
      "C:\\Users\\USER\\Desktop\\AutomaticCategoricalFeatureBinning\\src\\utils.py:41: FutureWarning: The frame.append method is deprecated and will be removed from pandas in a future version. Use pandas.concat instead.\n",
      "  datasets_df = datasets_df.append(df2, ignore_index=True)\n"
     ]
    },
    {
     "data": {
      "text/plain": "      Name                                                 df Target Column\n0  titanic       PassengerId  Survived  Pclass  \\\n0       ...      Survived",
      "text/html": "<div>\n<style scoped>\n    .dataframe tbody tr th:only-of-type {\n        vertical-align: middle;\n    }\n\n    .dataframe tbody tr th {\n        vertical-align: top;\n    }\n\n    .dataframe thead th {\n        text-align: right;\n    }\n</style>\n<table border=\"1\" class=\"dataframe\">\n  <thead>\n    <tr style=\"text-align: right;\">\n      <th></th>\n      <th>Name</th>\n      <th>df</th>\n      <th>Target Column</th>\n    </tr>\n  </thead>\n  <tbody>\n    <tr>\n      <th>0</th>\n      <td>titanic</td>\n      <td>PassengerId  Survived  Pclass  \\\n0       ...</td>\n      <td>Survived</td>\n    </tr>\n  </tbody>\n</table>\n</div>"
     },
     "execution_count": 5,
     "metadata": {},
     "output_type": "execute_result"
    }
   ],
   "source": [
    "from src.utils import load_datasets\n",
    "\n",
    "datasets_df = load_datasets(dataset_to_target=dataset_to_target)\n",
    "datasets_df"
   ],
   "metadata": {
    "collapsed": false
   }
  },
  {
   "cell_type": "code",
   "execution_count": 6,
   "outputs": [
    {
     "name": "stderr",
     "output_type": "stream",
     "text": [
      "Datasets Progress:   0%|          | 0/1 [00:00<?, ?it/s]\n",
      "titanic Progress:   0%|          | 0/2 [00:00<?, ?it/s]\u001B[A\n",
      "titanic Progress:  50%|█████     | 1/2 [00:03<00:03,  3.62s/it]\u001B[A\n",
      "titanic Progress: 100%|██████████| 2/2 [00:07<00:00,  3.59s/it]\u001B[A\n",
      "Datasets Progress: 100%|██████████| 1/1 [00:08<00:00,  8.44s/it]\n"
     ]
    },
    {
     "data": {
      "text/plain": "   Dataset Column Name  Optimal Binning Model Score  Score without Binning  \\\n0  titanic       SibSp                       81.614                 80.717   \n1  titanic       Parch                       81.166                 80.717   \n\n               og_unique  og_n_unique                     new_unique  \\\n0  [0, 1, 2, 3, 4, 5, 8]            7  [[2, 1], [5, 8], [3, 0], [4]]   \n1  [0, 1, 2, 3, 4, 5, 6]            7  [[3, 1], [2], [6, 0], [4, 5]]   \n\n   n_unique  total_time  score_diff  \n0         4    2.953952       0.897  \n1         4    2.600196       0.449  ",
      "text/html": "<div>\n<style scoped>\n    .dataframe tbody tr th:only-of-type {\n        vertical-align: middle;\n    }\n\n    .dataframe tbody tr th {\n        vertical-align: top;\n    }\n\n    .dataframe thead th {\n        text-align: right;\n    }\n</style>\n<table border=\"1\" class=\"dataframe\">\n  <thead>\n    <tr style=\"text-align: right;\">\n      <th></th>\n      <th>Dataset</th>\n      <th>Column Name</th>\n      <th>Optimal Binning Model Score</th>\n      <th>Score without Binning</th>\n      <th>og_unique</th>\n      <th>og_n_unique</th>\n      <th>new_unique</th>\n      <th>n_unique</th>\n      <th>total_time</th>\n      <th>score_diff</th>\n    </tr>\n  </thead>\n  <tbody>\n    <tr>\n      <th>0</th>\n      <td>titanic</td>\n      <td>SibSp</td>\n      <td>81.614</td>\n      <td>80.717</td>\n      <td>[0, 1, 2, 3, 4, 5, 8]</td>\n      <td>7</td>\n      <td>[[2, 1], [5, 8], [3, 0], [4]]</td>\n      <td>4</td>\n      <td>2.953952</td>\n      <td>0.897</td>\n    </tr>\n    <tr>\n      <th>1</th>\n      <td>titanic</td>\n      <td>Parch</td>\n      <td>81.166</td>\n      <td>80.717</td>\n      <td>[0, 1, 2, 3, 4, 5, 6]</td>\n      <td>7</td>\n      <td>[[3, 1], [2], [6, 0], [4, 5]]</td>\n      <td>4</td>\n      <td>2.600196</td>\n      <td>0.449</td>\n    </tr>\n  </tbody>\n</table>\n</div>"
     },
     "execution_count": 6,
     "metadata": {},
     "output_type": "execute_result"
    }
   ],
   "source": [
    "from src.main import get_results\n",
    "import warnings\n",
    "\n",
    "import pandas as pd\n",
    "\n",
    "warnings.simplefilter('ignore')\n",
    "\n",
    "min_unique = 5\n",
    "max_unique = 15\n",
    "\n",
    "model_records = get_results(datasets_df, min_unique=min_unique, max_unique=max_unique)\n",
    "results = pd.DataFrame(data=model_records,\n",
    "                       columns=[\"Dataset\", \"Column Name\", \"Optimal Binning Model Score\", \"Score without Binning\",\n",
    "                                \"og_unique\",\n",
    "                                \"og_n_unique\", \"new_unique\", \"n_unique\", \"total_time\"])\n",
    "results[\"score_diff\"] = results[\"Optimal Binning Model Score\"] - results[\"Score without Binning\"]\n",
    "results"
   ],
   "metadata": {
    "collapsed": false
   }
  },
  {
   "cell_type": "code",
   "execution_count": null,
   "outputs": [],
   "source": [],
   "metadata": {
    "collapsed": false
   }
  }
 ],
 "metadata": {
  "kernelspec": {
   "name": "auto_bin",
   "language": "python",
   "display_name": "auto_bin_kernel"
  },
  "language_info": {
   "codemirror_mode": {
    "name": "ipython",
    "version": 2
   },
   "file_extension": ".py",
   "mimetype": "text/x-python",
   "name": "python",
   "nbconvert_exporter": "python",
   "pygments_lexer": "ipython2",
   "version": "2.7.6"
  }
 },
 "nbformat": 4,
 "nbformat_minor": 0
}
