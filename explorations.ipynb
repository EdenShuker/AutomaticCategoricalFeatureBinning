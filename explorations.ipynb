{
 "cells": [
  {
   "cell_type": "code",
   "execution_count": 1,
   "outputs": [],
   "source": [
    "% load_ext autoreload\n",
    "% autoreload 2"
   ],
   "metadata": {
    "collapsed": false,
    "pycharm": {
     "name": "#%%\n"
    }
   }
  },
  {
   "cell_type": "code",
   "execution_count": 117,
   "outputs": [],
   "source": [
    "train_file_path = \"data/application_train.csv\"\n",
    "target_column_name = \"TARGET\""
   ],
   "metadata": {
    "collapsed": false,
    "pycharm": {
     "name": "#%%\n"
    }
   }
  },
  {
   "cell_type": "code",
   "execution_count": 119,
   "outputs": [
    {
     "data": {
      "text/plain": "        SK_ID_CURR  TARGET NAME_CONTRACT_TYPE CODE_GENDER FLAG_OWN_CAR  \\\n0           100002       1         Cash loans           M            N   \n1           100003       0         Cash loans           F            N   \n2           100004       0    Revolving loans           M            Y   \n3           100006       0         Cash loans           F            N   \n4           100007       0         Cash loans           M            N   \n...            ...     ...                ...         ...          ...   \n307506      456251       0         Cash loans           M            N   \n307507      456252       0         Cash loans           F            N   \n307508      456253       0         Cash loans           F            N   \n307509      456254       1         Cash loans           F            N   \n307510      456255       0         Cash loans           F            N   \n\n       FLAG_OWN_REALTY  CNT_CHILDREN  AMT_INCOME_TOTAL  AMT_CREDIT  \\\n0                    Y             0          202500.0    406597.5   \n1                    N             0          270000.0   1293502.5   \n2                    Y             0           67500.0    135000.0   \n3                    Y             0          135000.0    312682.5   \n4                    Y             0          121500.0    513000.0   \n...                ...           ...               ...         ...   \n307506               N             0          157500.0    254700.0   \n307507               Y             0           72000.0    269550.0   \n307508               Y             0          153000.0    677664.0   \n307509               Y             0          171000.0    370107.0   \n307510               N             0          157500.0    675000.0   \n\n        AMT_ANNUITY  ...  FLAG_DOCUMENT_18 FLAG_DOCUMENT_19 FLAG_DOCUMENT_20  \\\n0           24700.5  ...                 0                0                0   \n1           35698.5  ...                 0                0                0   \n2            6750.0  ...                 0                0                0   \n3           29686.5  ...                 0                0                0   \n4           21865.5  ...                 0                0                0   \n...             ...  ...               ...              ...              ...   \n307506      27558.0  ...                 0                0                0   \n307507      12001.5  ...                 0                0                0   \n307508      29979.0  ...                 0                0                0   \n307509      20205.0  ...                 0                0                0   \n307510      49117.5  ...                 0                0                0   \n\n       FLAG_DOCUMENT_21 AMT_REQ_CREDIT_BUREAU_HOUR AMT_REQ_CREDIT_BUREAU_DAY  \\\n0                     0                        0.0                       0.0   \n1                     0                        0.0                       0.0   \n2                     0                        0.0                       0.0   \n3                     0                        NaN                       NaN   \n4                     0                        0.0                       0.0   \n...                 ...                        ...                       ...   \n307506                0                        NaN                       NaN   \n307507                0                        NaN                       NaN   \n307508                0                        1.0                       0.0   \n307509                0                        0.0                       0.0   \n307510                0                        0.0                       0.0   \n\n        AMT_REQ_CREDIT_BUREAU_WEEK  AMT_REQ_CREDIT_BUREAU_MON  \\\n0                              0.0                        0.0   \n1                              0.0                        0.0   \n2                              0.0                        0.0   \n3                              NaN                        NaN   \n4                              0.0                        0.0   \n...                            ...                        ...   \n307506                         NaN                        NaN   \n307507                         NaN                        NaN   \n307508                         0.0                        1.0   \n307509                         0.0                        0.0   \n307510                         0.0                        2.0   \n\n        AMT_REQ_CREDIT_BUREAU_QRT  AMT_REQ_CREDIT_BUREAU_YEAR  \n0                             0.0                         1.0  \n1                             0.0                         0.0  \n2                             0.0                         0.0  \n3                             NaN                         NaN  \n4                             0.0                         0.0  \n...                           ...                         ...  \n307506                        NaN                         NaN  \n307507                        NaN                         NaN  \n307508                        0.0                         1.0  \n307509                        0.0                         0.0  \n307510                        0.0                         1.0  \n\n[307511 rows x 122 columns]",
      "text/html": "<div>\n<style scoped>\n    .dataframe tbody tr th:only-of-type {\n        vertical-align: middle;\n    }\n\n    .dataframe tbody tr th {\n        vertical-align: top;\n    }\n\n    .dataframe thead th {\n        text-align: right;\n    }\n</style>\n<table border=\"1\" class=\"dataframe\">\n  <thead>\n    <tr style=\"text-align: right;\">\n      <th></th>\n      <th>SK_ID_CURR</th>\n      <th>TARGET</th>\n      <th>NAME_CONTRACT_TYPE</th>\n      <th>CODE_GENDER</th>\n      <th>FLAG_OWN_CAR</th>\n      <th>FLAG_OWN_REALTY</th>\n      <th>CNT_CHILDREN</th>\n      <th>AMT_INCOME_TOTAL</th>\n      <th>AMT_CREDIT</th>\n      <th>AMT_ANNUITY</th>\n      <th>...</th>\n      <th>FLAG_DOCUMENT_18</th>\n      <th>FLAG_DOCUMENT_19</th>\n      <th>FLAG_DOCUMENT_20</th>\n      <th>FLAG_DOCUMENT_21</th>\n      <th>AMT_REQ_CREDIT_BUREAU_HOUR</th>\n      <th>AMT_REQ_CREDIT_BUREAU_DAY</th>\n      <th>AMT_REQ_CREDIT_BUREAU_WEEK</th>\n      <th>AMT_REQ_CREDIT_BUREAU_MON</th>\n      <th>AMT_REQ_CREDIT_BUREAU_QRT</th>\n      <th>AMT_REQ_CREDIT_BUREAU_YEAR</th>\n    </tr>\n  </thead>\n  <tbody>\n    <tr>\n      <th>0</th>\n      <td>100002</td>\n      <td>1</td>\n      <td>Cash loans</td>\n      <td>M</td>\n      <td>N</td>\n      <td>Y</td>\n      <td>0</td>\n      <td>202500.0</td>\n      <td>406597.5</td>\n      <td>24700.5</td>\n      <td>...</td>\n      <td>0</td>\n      <td>0</td>\n      <td>0</td>\n      <td>0</td>\n      <td>0.0</td>\n      <td>0.0</td>\n      <td>0.0</td>\n      <td>0.0</td>\n      <td>0.0</td>\n      <td>1.0</td>\n    </tr>\n    <tr>\n      <th>1</th>\n      <td>100003</td>\n      <td>0</td>\n      <td>Cash loans</td>\n      <td>F</td>\n      <td>N</td>\n      <td>N</td>\n      <td>0</td>\n      <td>270000.0</td>\n      <td>1293502.5</td>\n      <td>35698.5</td>\n      <td>...</td>\n      <td>0</td>\n      <td>0</td>\n      <td>0</td>\n      <td>0</td>\n      <td>0.0</td>\n      <td>0.0</td>\n      <td>0.0</td>\n      <td>0.0</td>\n      <td>0.0</td>\n      <td>0.0</td>\n    </tr>\n    <tr>\n      <th>2</th>\n      <td>100004</td>\n      <td>0</td>\n      <td>Revolving loans</td>\n      <td>M</td>\n      <td>Y</td>\n      <td>Y</td>\n      <td>0</td>\n      <td>67500.0</td>\n      <td>135000.0</td>\n      <td>6750.0</td>\n      <td>...</td>\n      <td>0</td>\n      <td>0</td>\n      <td>0</td>\n      <td>0</td>\n      <td>0.0</td>\n      <td>0.0</td>\n      <td>0.0</td>\n      <td>0.0</td>\n      <td>0.0</td>\n      <td>0.0</td>\n    </tr>\n    <tr>\n      <th>3</th>\n      <td>100006</td>\n      <td>0</td>\n      <td>Cash loans</td>\n      <td>F</td>\n      <td>N</td>\n      <td>Y</td>\n      <td>0</td>\n      <td>135000.0</td>\n      <td>312682.5</td>\n      <td>29686.5</td>\n      <td>...</td>\n      <td>0</td>\n      <td>0</td>\n      <td>0</td>\n      <td>0</td>\n      <td>NaN</td>\n      <td>NaN</td>\n      <td>NaN</td>\n      <td>NaN</td>\n      <td>NaN</td>\n      <td>NaN</td>\n    </tr>\n    <tr>\n      <th>4</th>\n      <td>100007</td>\n      <td>0</td>\n      <td>Cash loans</td>\n      <td>M</td>\n      <td>N</td>\n      <td>Y</td>\n      <td>0</td>\n      <td>121500.0</td>\n      <td>513000.0</td>\n      <td>21865.5</td>\n      <td>...</td>\n      <td>0</td>\n      <td>0</td>\n      <td>0</td>\n      <td>0</td>\n      <td>0.0</td>\n      <td>0.0</td>\n      <td>0.0</td>\n      <td>0.0</td>\n      <td>0.0</td>\n      <td>0.0</td>\n    </tr>\n    <tr>\n      <th>...</th>\n      <td>...</td>\n      <td>...</td>\n      <td>...</td>\n      <td>...</td>\n      <td>...</td>\n      <td>...</td>\n      <td>...</td>\n      <td>...</td>\n      <td>...</td>\n      <td>...</td>\n      <td>...</td>\n      <td>...</td>\n      <td>...</td>\n      <td>...</td>\n      <td>...</td>\n      <td>...</td>\n      <td>...</td>\n      <td>...</td>\n      <td>...</td>\n      <td>...</td>\n      <td>...</td>\n    </tr>\n    <tr>\n      <th>307506</th>\n      <td>456251</td>\n      <td>0</td>\n      <td>Cash loans</td>\n      <td>M</td>\n      <td>N</td>\n      <td>N</td>\n      <td>0</td>\n      <td>157500.0</td>\n      <td>254700.0</td>\n      <td>27558.0</td>\n      <td>...</td>\n      <td>0</td>\n      <td>0</td>\n      <td>0</td>\n      <td>0</td>\n      <td>NaN</td>\n      <td>NaN</td>\n      <td>NaN</td>\n      <td>NaN</td>\n      <td>NaN</td>\n      <td>NaN</td>\n    </tr>\n    <tr>\n      <th>307507</th>\n      <td>456252</td>\n      <td>0</td>\n      <td>Cash loans</td>\n      <td>F</td>\n      <td>N</td>\n      <td>Y</td>\n      <td>0</td>\n      <td>72000.0</td>\n      <td>269550.0</td>\n      <td>12001.5</td>\n      <td>...</td>\n      <td>0</td>\n      <td>0</td>\n      <td>0</td>\n      <td>0</td>\n      <td>NaN</td>\n      <td>NaN</td>\n      <td>NaN</td>\n      <td>NaN</td>\n      <td>NaN</td>\n      <td>NaN</td>\n    </tr>\n    <tr>\n      <th>307508</th>\n      <td>456253</td>\n      <td>0</td>\n      <td>Cash loans</td>\n      <td>F</td>\n      <td>N</td>\n      <td>Y</td>\n      <td>0</td>\n      <td>153000.0</td>\n      <td>677664.0</td>\n      <td>29979.0</td>\n      <td>...</td>\n      <td>0</td>\n      <td>0</td>\n      <td>0</td>\n      <td>0</td>\n      <td>1.0</td>\n      <td>0.0</td>\n      <td>0.0</td>\n      <td>1.0</td>\n      <td>0.0</td>\n      <td>1.0</td>\n    </tr>\n    <tr>\n      <th>307509</th>\n      <td>456254</td>\n      <td>1</td>\n      <td>Cash loans</td>\n      <td>F</td>\n      <td>N</td>\n      <td>Y</td>\n      <td>0</td>\n      <td>171000.0</td>\n      <td>370107.0</td>\n      <td>20205.0</td>\n      <td>...</td>\n      <td>0</td>\n      <td>0</td>\n      <td>0</td>\n      <td>0</td>\n      <td>0.0</td>\n      <td>0.0</td>\n      <td>0.0</td>\n      <td>0.0</td>\n      <td>0.0</td>\n      <td>0.0</td>\n    </tr>\n    <tr>\n      <th>307510</th>\n      <td>456255</td>\n      <td>0</td>\n      <td>Cash loans</td>\n      <td>F</td>\n      <td>N</td>\n      <td>N</td>\n      <td>0</td>\n      <td>157500.0</td>\n      <td>675000.0</td>\n      <td>49117.5</td>\n      <td>...</td>\n      <td>0</td>\n      <td>0</td>\n      <td>0</td>\n      <td>0</td>\n      <td>0.0</td>\n      <td>0.0</td>\n      <td>0.0</td>\n      <td>2.0</td>\n      <td>0.0</td>\n      <td>1.0</td>\n    </tr>\n  </tbody>\n</table>\n<p>307511 rows × 122 columns</p>\n</div>"
     },
     "execution_count": 119,
     "metadata": {},
     "output_type": "execute_result"
    }
   ],
   "source": [
    "from src.utils import load_dataset\n",
    "\n",
    "df = load_dataset(train_file_path)\n",
    "raw_df = df\n",
    "raw_df"
   ],
   "metadata": {
    "collapsed": false,
    "pycharm": {
     "name": "#%%\n"
    }
   }
  },
  {
   "cell_type": "code",
   "execution_count": 120,
   "outputs": [],
   "source": [
    "df_columns = df.columns\n",
    "nan_columns_summary = df.isnull().sum() != 0\n",
    "nan_columns = nan_columns_summary.index[nan_columns_summary].tolist()"
   ],
   "metadata": {
    "collapsed": false,
    "pycharm": {
     "name": "#%%\n"
    }
   }
  },
  {
   "cell_type": "code",
   "execution_count": 121,
   "outputs": [],
   "source": [
    "type_to_imputer_strategy = {'float64': 'mean', 'object': 'most_frequent'}"
   ],
   "metadata": {
    "collapsed": false,
    "pycharm": {
     "name": "#%%\n"
    }
   }
  },
  {
   "cell_type": "code",
   "execution_count": 122,
   "outputs": [
    {
     "data": {
      "text/plain": "       SK_ID_CURR TARGET NAME_CONTRACT_TYPE CODE_GENDER FLAG_OWN_CAR  \\\n0          100002      1         Cash loans           M            N   \n1          100003      0         Cash loans           F            N   \n2          100004      0    Revolving loans           M            Y   \n3          100006      0         Cash loans           F            N   \n4          100007      0         Cash loans           M            N   \n...           ...    ...                ...         ...          ...   \n307506     456251      0         Cash loans           M            N   \n307507     456252      0         Cash loans           F            N   \n307508     456253      0         Cash loans           F            N   \n307509     456254      1         Cash loans           F            N   \n307510     456255      0         Cash loans           F            N   \n\n       FLAG_OWN_REALTY CNT_CHILDREN AMT_INCOME_TOTAL  AMT_CREDIT AMT_ANNUITY  \\\n0                    Y            0           202500      406598     24700.5   \n1                    N            0           270000  1.2935e+06     35698.5   \n2                    Y            0            67500      135000        6750   \n3                    Y            0           135000      312682     29686.5   \n4                    Y            0           121500      513000     21865.5   \n...                ...          ...              ...         ...         ...   \n307506               N            0           157500      254700       27558   \n307507               Y            0            72000      269550     12001.5   \n307508               Y            0           153000      677664       29979   \n307509               Y            0           171000      370107       20205   \n307510               N            0           157500      675000     49117.5   \n\n        ... FLAG_DOCUMENT_18 FLAG_DOCUMENT_19 FLAG_DOCUMENT_20  \\\n0       ...                0                0                0   \n1       ...                0                0                0   \n2       ...                0                0                0   \n3       ...                0                0                0   \n4       ...                0                0                0   \n...     ...              ...              ...              ...   \n307506  ...                0                0                0   \n307507  ...                0                0                0   \n307508  ...                0                0                0   \n307509  ...                0                0                0   \n307510  ...                0                0                0   \n\n       FLAG_DOCUMENT_21 AMT_REQ_CREDIT_BUREAU_HOUR AMT_REQ_CREDIT_BUREAU_DAY  \\\n0                     0                          0                         0   \n1                     0                          0                         0   \n2                     0                          0                         0   \n3                     0                 0.00640245                0.00700021   \n4                     0                          0                         0   \n...                 ...                        ...                       ...   \n307506                0                 0.00640245                0.00700021   \n307507                0                 0.00640245                0.00700021   \n307508                0                          1                         0   \n307509                0                          0                         0   \n307510                0                          0                         0   \n\n       AMT_REQ_CREDIT_BUREAU_WEEK AMT_REQ_CREDIT_BUREAU_MON  \\\n0                               0                         0   \n1                               0                         0   \n2                               0                         0   \n3                       0.0343619                  0.267395   \n4                               0                         0   \n...                           ...                       ...   \n307506                  0.0343619                  0.267395   \n307507                  0.0343619                  0.267395   \n307508                          0                         1   \n307509                          0                         0   \n307510                          0                         2   \n\n       AMT_REQ_CREDIT_BUREAU_QRT AMT_REQ_CREDIT_BUREAU_YEAR  \n0                              0                          1  \n1                              0                          0  \n2                              0                          0  \n3                       0.265474                    1.89997  \n4                              0                          0  \n...                          ...                        ...  \n307506                  0.265474                    1.89997  \n307507                  0.265474                    1.89997  \n307508                         0                          1  \n307509                         0                          0  \n307510                         0                          1  \n\n[307511 rows x 122 columns]",
      "text/html": "<div>\n<style scoped>\n    .dataframe tbody tr th:only-of-type {\n        vertical-align: middle;\n    }\n\n    .dataframe tbody tr th {\n        vertical-align: top;\n    }\n\n    .dataframe thead th {\n        text-align: right;\n    }\n</style>\n<table border=\"1\" class=\"dataframe\">\n  <thead>\n    <tr style=\"text-align: right;\">\n      <th></th>\n      <th>SK_ID_CURR</th>\n      <th>TARGET</th>\n      <th>NAME_CONTRACT_TYPE</th>\n      <th>CODE_GENDER</th>\n      <th>FLAG_OWN_CAR</th>\n      <th>FLAG_OWN_REALTY</th>\n      <th>CNT_CHILDREN</th>\n      <th>AMT_INCOME_TOTAL</th>\n      <th>AMT_CREDIT</th>\n      <th>AMT_ANNUITY</th>\n      <th>...</th>\n      <th>FLAG_DOCUMENT_18</th>\n      <th>FLAG_DOCUMENT_19</th>\n      <th>FLAG_DOCUMENT_20</th>\n      <th>FLAG_DOCUMENT_21</th>\n      <th>AMT_REQ_CREDIT_BUREAU_HOUR</th>\n      <th>AMT_REQ_CREDIT_BUREAU_DAY</th>\n      <th>AMT_REQ_CREDIT_BUREAU_WEEK</th>\n      <th>AMT_REQ_CREDIT_BUREAU_MON</th>\n      <th>AMT_REQ_CREDIT_BUREAU_QRT</th>\n      <th>AMT_REQ_CREDIT_BUREAU_YEAR</th>\n    </tr>\n  </thead>\n  <tbody>\n    <tr>\n      <th>0</th>\n      <td>100002</td>\n      <td>1</td>\n      <td>Cash loans</td>\n      <td>M</td>\n      <td>N</td>\n      <td>Y</td>\n      <td>0</td>\n      <td>202500</td>\n      <td>406598</td>\n      <td>24700.5</td>\n      <td>...</td>\n      <td>0</td>\n      <td>0</td>\n      <td>0</td>\n      <td>0</td>\n      <td>0</td>\n      <td>0</td>\n      <td>0</td>\n      <td>0</td>\n      <td>0</td>\n      <td>1</td>\n    </tr>\n    <tr>\n      <th>1</th>\n      <td>100003</td>\n      <td>0</td>\n      <td>Cash loans</td>\n      <td>F</td>\n      <td>N</td>\n      <td>N</td>\n      <td>0</td>\n      <td>270000</td>\n      <td>1.2935e+06</td>\n      <td>35698.5</td>\n      <td>...</td>\n      <td>0</td>\n      <td>0</td>\n      <td>0</td>\n      <td>0</td>\n      <td>0</td>\n      <td>0</td>\n      <td>0</td>\n      <td>0</td>\n      <td>0</td>\n      <td>0</td>\n    </tr>\n    <tr>\n      <th>2</th>\n      <td>100004</td>\n      <td>0</td>\n      <td>Revolving loans</td>\n      <td>M</td>\n      <td>Y</td>\n      <td>Y</td>\n      <td>0</td>\n      <td>67500</td>\n      <td>135000</td>\n      <td>6750</td>\n      <td>...</td>\n      <td>0</td>\n      <td>0</td>\n      <td>0</td>\n      <td>0</td>\n      <td>0</td>\n      <td>0</td>\n      <td>0</td>\n      <td>0</td>\n      <td>0</td>\n      <td>0</td>\n    </tr>\n    <tr>\n      <th>3</th>\n      <td>100006</td>\n      <td>0</td>\n      <td>Cash loans</td>\n      <td>F</td>\n      <td>N</td>\n      <td>Y</td>\n      <td>0</td>\n      <td>135000</td>\n      <td>312682</td>\n      <td>29686.5</td>\n      <td>...</td>\n      <td>0</td>\n      <td>0</td>\n      <td>0</td>\n      <td>0</td>\n      <td>0.00640245</td>\n      <td>0.00700021</td>\n      <td>0.0343619</td>\n      <td>0.267395</td>\n      <td>0.265474</td>\n      <td>1.89997</td>\n    </tr>\n    <tr>\n      <th>4</th>\n      <td>100007</td>\n      <td>0</td>\n      <td>Cash loans</td>\n      <td>M</td>\n      <td>N</td>\n      <td>Y</td>\n      <td>0</td>\n      <td>121500</td>\n      <td>513000</td>\n      <td>21865.5</td>\n      <td>...</td>\n      <td>0</td>\n      <td>0</td>\n      <td>0</td>\n      <td>0</td>\n      <td>0</td>\n      <td>0</td>\n      <td>0</td>\n      <td>0</td>\n      <td>0</td>\n      <td>0</td>\n    </tr>\n    <tr>\n      <th>...</th>\n      <td>...</td>\n      <td>...</td>\n      <td>...</td>\n      <td>...</td>\n      <td>...</td>\n      <td>...</td>\n      <td>...</td>\n      <td>...</td>\n      <td>...</td>\n      <td>...</td>\n      <td>...</td>\n      <td>...</td>\n      <td>...</td>\n      <td>...</td>\n      <td>...</td>\n      <td>...</td>\n      <td>...</td>\n      <td>...</td>\n      <td>...</td>\n      <td>...</td>\n      <td>...</td>\n    </tr>\n    <tr>\n      <th>307506</th>\n      <td>456251</td>\n      <td>0</td>\n      <td>Cash loans</td>\n      <td>M</td>\n      <td>N</td>\n      <td>N</td>\n      <td>0</td>\n      <td>157500</td>\n      <td>254700</td>\n      <td>27558</td>\n      <td>...</td>\n      <td>0</td>\n      <td>0</td>\n      <td>0</td>\n      <td>0</td>\n      <td>0.00640245</td>\n      <td>0.00700021</td>\n      <td>0.0343619</td>\n      <td>0.267395</td>\n      <td>0.265474</td>\n      <td>1.89997</td>\n    </tr>\n    <tr>\n      <th>307507</th>\n      <td>456252</td>\n      <td>0</td>\n      <td>Cash loans</td>\n      <td>F</td>\n      <td>N</td>\n      <td>Y</td>\n      <td>0</td>\n      <td>72000</td>\n      <td>269550</td>\n      <td>12001.5</td>\n      <td>...</td>\n      <td>0</td>\n      <td>0</td>\n      <td>0</td>\n      <td>0</td>\n      <td>0.00640245</td>\n      <td>0.00700021</td>\n      <td>0.0343619</td>\n      <td>0.267395</td>\n      <td>0.265474</td>\n      <td>1.89997</td>\n    </tr>\n    <tr>\n      <th>307508</th>\n      <td>456253</td>\n      <td>0</td>\n      <td>Cash loans</td>\n      <td>F</td>\n      <td>N</td>\n      <td>Y</td>\n      <td>0</td>\n      <td>153000</td>\n      <td>677664</td>\n      <td>29979</td>\n      <td>...</td>\n      <td>0</td>\n      <td>0</td>\n      <td>0</td>\n      <td>0</td>\n      <td>1</td>\n      <td>0</td>\n      <td>0</td>\n      <td>1</td>\n      <td>0</td>\n      <td>1</td>\n    </tr>\n    <tr>\n      <th>307509</th>\n      <td>456254</td>\n      <td>1</td>\n      <td>Cash loans</td>\n      <td>F</td>\n      <td>N</td>\n      <td>Y</td>\n      <td>0</td>\n      <td>171000</td>\n      <td>370107</td>\n      <td>20205</td>\n      <td>...</td>\n      <td>0</td>\n      <td>0</td>\n      <td>0</td>\n      <td>0</td>\n      <td>0</td>\n      <td>0</td>\n      <td>0</td>\n      <td>0</td>\n      <td>0</td>\n      <td>0</td>\n    </tr>\n    <tr>\n      <th>307510</th>\n      <td>456255</td>\n      <td>0</td>\n      <td>Cash loans</td>\n      <td>F</td>\n      <td>N</td>\n      <td>N</td>\n      <td>0</td>\n      <td>157500</td>\n      <td>675000</td>\n      <td>49117.5</td>\n      <td>...</td>\n      <td>0</td>\n      <td>0</td>\n      <td>0</td>\n      <td>0</td>\n      <td>0</td>\n      <td>0</td>\n      <td>0</td>\n      <td>2</td>\n      <td>0</td>\n      <td>1</td>\n    </tr>\n  </tbody>\n</table>\n<p>307511 rows × 122 columns</p>\n</div>"
     },
     "execution_count": 122,
     "metadata": {},
     "output_type": "execute_result"
    }
   ],
   "source": [
    "import pandas as pd\n",
    "from sklearn.compose import ColumnTransformer\n",
    "from sklearn.impute import SimpleImputer\n",
    "\n",
    "# The transformers must be with the order of the columns, otherwise when we wrap it back to dataframe the columns will mix up\n",
    "transformers = []\n",
    "for feature in df_columns:\n",
    "    if feature in nan_columns:\n",
    "        transformers.append(\n",
    "            (f'{feature}_imputer', SimpleImputer(strategy=type_to_imputer_strategy[df[feature].dtype.name]), [feature]))\n",
    "    else:\n",
    "        transformers.append((f'{feature}_keeper', 'passthrough', [feature]))\n",
    "\n",
    "column_trans = ColumnTransformer(transformers)\n",
    "df_transformed_data = column_trans.fit_transform(df)\n",
    "df_transformed = pd.DataFrame(data=df_transformed_data, columns=df_columns)\n",
    "df_transformed"
   ],
   "metadata": {
    "collapsed": false,
    "pycharm": {
     "name": "#%%\n"
    }
   }
  },
  {
   "cell_type": "code",
   "execution_count": 123,
   "outputs": [],
   "source": [
    "from sklearn.model_selection import train_test_split\n",
    "from src.test_binning import SEED\n",
    "\n",
    "df_train, df_test = train_test_split(df_transformed, test_size=0.25, random_state=SEED)\n",
    "df_train.reset_index(drop=True, inplace=True)\n",
    "df_test.reset_index(drop=True, inplace=True)"
   ],
   "metadata": {
    "collapsed": false,
    "pycharm": {
     "name": "#%%\n"
    }
   }
  },
  {
   "cell_type": "code",
   "execution_count": 124,
   "outputs": [],
   "source": [
    "from src.data_preprocessing import preprocess_data\n",
    "\n",
    "x_train, y_train, x_test, y_test = preprocess_data(df_train, df_test, target_column_name)"
   ],
   "metadata": {
    "collapsed": false,
    "pycharm": {
     "name": "#%%\n"
    }
   }
  },
  {
   "cell_type": "code",
   "execution_count": 125,
   "outputs": [
    {
     "name": "stdout",
     "output_type": "stream",
     "text": [
      "The score without binning is: 91.869\n"
     ]
    }
   ],
   "source": [
    "from src.test_binning import get_score_of_classification_model\n",
    "\n",
    "score_without_binning = get_score_of_classification_model(x_train=x_train, y_train=y_train, x_test=x_test,\n",
    "                                                          y_test=y_test)\n",
    "print(f\"The score without binning is: {score_without_binning:.3f}\")"
   ],
   "metadata": {
    "collapsed": false,
    "pycharm": {
     "name": "#%%\n"
    }
   }
  },
  {
   "cell_type": "code",
   "execution_count": 126,
   "outputs": [],
   "source": [
    "from src.binner import apply_binning_on_column\n",
    "from src.alt_binning import find_optimal_binning_without_frequency\n",
    "\n",
    "\n",
    "def test_column(df_train, target_column_name, categorical_column_name):\n",
    "    optimal_binning = find_optimal_binning_without_frequency(df_train, target_column_name, categorical_column_name)\n",
    "\n",
    "    df_train_copy = df_train.copy()\n",
    "    df_test_copy = df_test.copy()\n",
    "    new_col_train = apply_binning_on_column(df_train_copy[categorical_column_name], optimal_binning)\n",
    "    df_train_copy[categorical_column_name] = new_col_train\n",
    "    new_col_test = apply_binning_on_column(df_test_copy[categorical_column_name], optimal_binning)\n",
    "    df_test_copy[categorical_column_name] = new_col_test\n",
    "\n",
    "    x_train, y_train, x_test, y_test = preprocess_data(df_train_copy, df_test_copy, target_column_name)\n",
    "    with_binning_score = get_score_of_classification_model(x_train, y_train, x_test, y_test)\n",
    "\n",
    "    return with_binning_score\n"
   ],
   "metadata": {
    "collapsed": false,
    "pycharm": {
     "name": "#%%\n"
    }
   }
  },
  {
   "cell_type": "code",
   "execution_count": 127,
   "outputs": [],
   "source": [
    "def get_categorical_columns_by_range_of_uniqueness(df, min_unique, max_unique):\n",
    "    a = df.nunique()\n",
    "    a = a.ge(min_unique) & a.le(max_unique)\n",
    "\n",
    "    return list(a[a].index)"
   ],
   "metadata": {
    "collapsed": false,
    "pycharm": {
     "name": "#%%\n"
    }
   }
  },
  {
   "cell_type": "code",
   "execution_count": 128,
   "outputs": [
    {
     "name": "stdout",
     "output_type": "stream",
     "text": [
      "12 to test\n"
     ]
    }
   ],
   "source": [
    "min_unique = 5\n",
    "max_unique = 10\n",
    "\n",
    "categorical_columns = get_categorical_columns_by_range_of_uniqueness(df_train, min_unique=min_unique,\n",
    "                                                                     max_unique=max_unique)\n",
    "print(f'{len(categorical_columns)} to test')"
   ],
   "metadata": {
    "collapsed": false,
    "pycharm": {
     "name": "#%%\n"
    }
   }
  },
  {
   "cell_type": "code",
   "execution_count": 129,
   "outputs": [
    {
     "name": "stderr",
     "output_type": "stream",
     "text": [
      "  8%|▊         | 1/12 [00:33<06:09, 33.56s/it]"
     ]
    },
    {
     "name": "stdout",
     "output_type": "stream",
     "text": [
      "Failure ):  0.0\n"
     ]
    },
    {
     "name": "stderr",
     "output_type": "stream",
     "text": [
      " 17%|█▋        | 2/12 [01:03<05:14, 31.47s/it]"
     ]
    },
    {
     "name": "stdout",
     "output_type": "stream",
     "text": [
      "SUCCESS (: 0.08333333333333333\n"
     ]
    },
    {
     "name": "stderr",
     "output_type": "stream",
     "text": [
      " 25%|██▌       | 3/12 [01:32<04:31, 30.13s/it]"
     ]
    },
    {
     "name": "stdout",
     "output_type": "stream",
     "text": [
      "SUCCESS (: 0.16666666666666666\n"
     ]
    },
    {
     "name": "stderr",
     "output_type": "stream",
     "text": [
      " 33%|███▎      | 4/12 [02:03<04:05, 30.64s/it]"
     ]
    },
    {
     "name": "stdout",
     "output_type": "stream",
     "text": [
      "SUCCESS (: 0.25\n"
     ]
    },
    {
     "name": "stderr",
     "output_type": "stream",
     "text": [
      " 42%|████▏     | 5/12 [02:33<03:32, 30.29s/it]"
     ]
    },
    {
     "name": "stdout",
     "output_type": "stream",
     "text": [
      "Failure ):  0.25\n"
     ]
    },
    {
     "name": "stderr",
     "output_type": "stream",
     "text": [
      " 50%|█████     | 6/12 [03:08<03:11, 31.89s/it]"
     ]
    },
    {
     "name": "stdout",
     "output_type": "stream",
     "text": [
      "Failure ):  0.25\n"
     ]
    },
    {
     "name": "stderr",
     "output_type": "stream",
     "text": [
      " 58%|█████▊    | 7/12 [03:47<02:51, 34.28s/it]"
     ]
    },
    {
     "name": "stdout",
     "output_type": "stream",
     "text": [
      "SUCCESS (: 0.3333333333333333\n"
     ]
    },
    {
     "name": "stderr",
     "output_type": "stream",
     "text": [
      " 67%|██████▋   | 8/12 [04:30<02:28, 37.13s/it]"
     ]
    },
    {
     "name": "stdout",
     "output_type": "stream",
     "text": [
      "Failure ):  0.3333333333333333\n"
     ]
    },
    {
     "name": "stderr",
     "output_type": "stream",
     "text": [
      " 75%|███████▌  | 9/12 [05:05<01:49, 36.42s/it]"
     ]
    },
    {
     "name": "stdout",
     "output_type": "stream",
     "text": [
      "SUCCESS (: 0.4166666666666667\n"
     ]
    },
    {
     "name": "stderr",
     "output_type": "stream",
     "text": [
      " 83%|████████▎ | 10/12 [05:35<01:08, 34.40s/it]"
     ]
    },
    {
     "name": "stdout",
     "output_type": "stream",
     "text": [
      "SUCCESS (: 0.5\n"
     ]
    },
    {
     "name": "stderr",
     "output_type": "stream",
     "text": [
      " 92%|█████████▏| 11/12 [06:06<00:33, 33.53s/it]"
     ]
    },
    {
     "name": "stdout",
     "output_type": "stream",
     "text": [
      "SUCCESS (: 0.5833333333333334\n"
     ]
    },
    {
     "name": "stderr",
     "output_type": "stream",
     "text": [
      "100%|██████████| 12/12 [06:42<00:00, 33.51s/it]"
     ]
    },
    {
     "name": "stdout",
     "output_type": "stream",
     "text": [
      "SUCCESS (: 0.6666666666666666\n"
     ]
    },
    {
     "name": "stderr",
     "output_type": "stream",
     "text": [
      "\n"
     ]
    }
   ],
   "source": [
    "from tqdm import tqdm\n",
    "\n",
    "success_columns = []\n",
    "failure_columns = []\n",
    "\n",
    "for column in tqdm(categorical_columns):\n",
    "    with_binning_score = test_column(df_train, target_column_name, categorical_column_name=column)\n",
    "\n",
    "    if with_binning_score > score_without_binning:\n",
    "        success_columns.append(column)\n",
    "        print(f'SUCCESS (: {len(success_columns)/len(success_columns) + len(failure_columns)}')\n",
    "    else:\n",
    "        failure_columns.append(column)\n",
    "        print(f'Failure ):  {len(success_columns)/len(categorical_columns)}')"
   ],
   "metadata": {
    "collapsed": false,
    "pycharm": {
     "name": "#%%\n"
    }
   }
  },
  {
   "cell_type": "code",
   "execution_count": 133,
   "outputs": [
    {
     "name": "stdout",
     "output_type": "stream",
     "text": [
      "8 of 12\n"
     ]
    }
   ],
   "source": [
    "print(f'{len(success_columns)} of {len(categorical_columns)}')"
   ],
   "metadata": {
    "collapsed": false,
    "pycharm": {
     "name": "#%%\n"
    }
   }
  },
  {
   "cell_type": "markdown",
   "source": [
    "# The pipeline is completed\n",
    "# TODO: FIND more datasets with categorical features, mushrooms is too easy (100 accuracy with 100 samples without any smart binning)"
   ],
   "metadata": {
    "collapsed": false,
    "pycharm": {
     "name": "#%% md\n"
    }
   }
  },
  {
   "cell_type": "code",
   "execution_count": null,
   "outputs": [],
   "source": [],
   "metadata": {
    "collapsed": false,
    "pycharm": {
     "name": "#%%\n"
    }
   }
  }
 ],
 "metadata": {
  "kernelspec": {
   "display_name": "Python 3",
   "language": "python",
   "name": "python3"
  },
  "language_info": {
   "codemirror_mode": {
    "name": "ipython",
    "version": 2
   },
   "file_extension": ".py",
   "mimetype": "text/x-python",
   "name": "python",
   "nbconvert_exporter": "python",
   "pygments_lexer": "ipython2",
   "version": "2.7.6"
  }
 },
 "nbformat": 4,
 "nbformat_minor": 0
}