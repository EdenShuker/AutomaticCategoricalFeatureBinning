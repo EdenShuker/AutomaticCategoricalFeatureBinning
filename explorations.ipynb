{
 "cells": [
  {
   "cell_type": "code",
   "execution_count": 47,
   "outputs": [
    {
     "name": "stdout",
     "output_type": "stream",
     "text": [
      "The autoreload extension is already loaded. To reload it, use:\n",
      "  %reload_ext autoreload\n"
     ]
    }
   ],
   "source": [
    "%load_ext autoreload\n",
    "%autoreload 2"
   ],
   "metadata": {
    "collapsed": false
   }
  },
  {
   "cell_type": "code",
   "execution_count": 132,
   "outputs": [],
   "source": [
    "train_file_path = \"data/diabetes/diabetes.csv\"\n",
    "target_column_name = \"Outcome\""
   ],
   "metadata": {
    "collapsed": false
   }
  },
  {
   "cell_type": "code",
   "execution_count": 133,
   "outputs": [
    {
     "data": {
      "text/plain": "     Pregnancies Gender  Glucose  BloodPressure  SkinThickness  Insulin   BMI  \\\n0              0      M      148             72             35        0  33.6   \n1              1      F       85             66             29        0  26.6   \n2              0      M      183             64              0        0  23.3   \n3              1      F       89             66             23       94  28.1   \n4              0      M      137             40             35      168  43.1   \n..           ...    ...      ...            ...            ...      ...   ...   \n763            3      F      101             76             48      180  32.9   \n764            2      F      122             70             27        0  36.8   \n765            0      M      121             72             23      112  26.2   \n766            1      F      126             60              0        0  30.1   \n767            1      F       93             70             31        0  30.4   \n\n     DiabetesPedigreeFunction  Age  Outcome  CalorieIntake Exercise  \\\n0                       0.627   50        1         2508.3       No   \n1                       0.351   31        0         2760.0  Evening   \n2                       0.672   32        1         6480.0  Morning   \n3                       0.167   21        0            NaN  Evening   \n4                       2.288   33        1         1970.0       No   \n..                        ...  ...      ...            ...      ...   \n763                     0.171   63        0         2860.0  Morning   \n764                     0.340   27        0         3320.0  Morning   \n765                     0.245   30        0         3453.0  Evening   \n766                     0.349   47        1         8850.0       No   \n767                     0.315   23        0         2620.0     Both   \n\n     SleepDuration  \n0                6  \n1                8  \n2                8  \n3                8  \n4                9  \n..             ...  \n763              6  \n764              7  \n765              4  \n766              8  \n767              8  \n\n[768 rows x 13 columns]",
      "text/html": "<div>\n<style scoped>\n    .dataframe tbody tr th:only-of-type {\n        vertical-align: middle;\n    }\n\n    .dataframe tbody tr th {\n        vertical-align: top;\n    }\n\n    .dataframe thead th {\n        text-align: right;\n    }\n</style>\n<table border=\"1\" class=\"dataframe\">\n  <thead>\n    <tr style=\"text-align: right;\">\n      <th></th>\n      <th>Pregnancies</th>\n      <th>Gender</th>\n      <th>Glucose</th>\n      <th>BloodPressure</th>\n      <th>SkinThickness</th>\n      <th>Insulin</th>\n      <th>BMI</th>\n      <th>DiabetesPedigreeFunction</th>\n      <th>Age</th>\n      <th>Outcome</th>\n      <th>CalorieIntake</th>\n      <th>Exercise</th>\n      <th>SleepDuration</th>\n    </tr>\n  </thead>\n  <tbody>\n    <tr>\n      <th>0</th>\n      <td>0</td>\n      <td>M</td>\n      <td>148</td>\n      <td>72</td>\n      <td>35</td>\n      <td>0</td>\n      <td>33.6</td>\n      <td>0.627</td>\n      <td>50</td>\n      <td>1</td>\n      <td>2508.3</td>\n      <td>No</td>\n      <td>6</td>\n    </tr>\n    <tr>\n      <th>1</th>\n      <td>1</td>\n      <td>F</td>\n      <td>85</td>\n      <td>66</td>\n      <td>29</td>\n      <td>0</td>\n      <td>26.6</td>\n      <td>0.351</td>\n      <td>31</td>\n      <td>0</td>\n      <td>2760.0</td>\n      <td>Evening</td>\n      <td>8</td>\n    </tr>\n    <tr>\n      <th>2</th>\n      <td>0</td>\n      <td>M</td>\n      <td>183</td>\n      <td>64</td>\n      <td>0</td>\n      <td>0</td>\n      <td>23.3</td>\n      <td>0.672</td>\n      <td>32</td>\n      <td>1</td>\n      <td>6480.0</td>\n      <td>Morning</td>\n      <td>8</td>\n    </tr>\n    <tr>\n      <th>3</th>\n      <td>1</td>\n      <td>F</td>\n      <td>89</td>\n      <td>66</td>\n      <td>23</td>\n      <td>94</td>\n      <td>28.1</td>\n      <td>0.167</td>\n      <td>21</td>\n      <td>0</td>\n      <td>NaN</td>\n      <td>Evening</td>\n      <td>8</td>\n    </tr>\n    <tr>\n      <th>4</th>\n      <td>0</td>\n      <td>M</td>\n      <td>137</td>\n      <td>40</td>\n      <td>35</td>\n      <td>168</td>\n      <td>43.1</td>\n      <td>2.288</td>\n      <td>33</td>\n      <td>1</td>\n      <td>1970.0</td>\n      <td>No</td>\n      <td>9</td>\n    </tr>\n    <tr>\n      <th>...</th>\n      <td>...</td>\n      <td>...</td>\n      <td>...</td>\n      <td>...</td>\n      <td>...</td>\n      <td>...</td>\n      <td>...</td>\n      <td>...</td>\n      <td>...</td>\n      <td>...</td>\n      <td>...</td>\n      <td>...</td>\n      <td>...</td>\n    </tr>\n    <tr>\n      <th>763</th>\n      <td>3</td>\n      <td>F</td>\n      <td>101</td>\n      <td>76</td>\n      <td>48</td>\n      <td>180</td>\n      <td>32.9</td>\n      <td>0.171</td>\n      <td>63</td>\n      <td>0</td>\n      <td>2860.0</td>\n      <td>Morning</td>\n      <td>6</td>\n    </tr>\n    <tr>\n      <th>764</th>\n      <td>2</td>\n      <td>F</td>\n      <td>122</td>\n      <td>70</td>\n      <td>27</td>\n      <td>0</td>\n      <td>36.8</td>\n      <td>0.340</td>\n      <td>27</td>\n      <td>0</td>\n      <td>3320.0</td>\n      <td>Morning</td>\n      <td>7</td>\n    </tr>\n    <tr>\n      <th>765</th>\n      <td>0</td>\n      <td>M</td>\n      <td>121</td>\n      <td>72</td>\n      <td>23</td>\n      <td>112</td>\n      <td>26.2</td>\n      <td>0.245</td>\n      <td>30</td>\n      <td>0</td>\n      <td>3453.0</td>\n      <td>Evening</td>\n      <td>4</td>\n    </tr>\n    <tr>\n      <th>766</th>\n      <td>1</td>\n      <td>F</td>\n      <td>126</td>\n      <td>60</td>\n      <td>0</td>\n      <td>0</td>\n      <td>30.1</td>\n      <td>0.349</td>\n      <td>47</td>\n      <td>1</td>\n      <td>8850.0</td>\n      <td>No</td>\n      <td>8</td>\n    </tr>\n    <tr>\n      <th>767</th>\n      <td>1</td>\n      <td>F</td>\n      <td>93</td>\n      <td>70</td>\n      <td>31</td>\n      <td>0</td>\n      <td>30.4</td>\n      <td>0.315</td>\n      <td>23</td>\n      <td>0</td>\n      <td>2620.0</td>\n      <td>Both</td>\n      <td>8</td>\n    </tr>\n  </tbody>\n</table>\n<p>768 rows × 13 columns</p>\n</div>"
     },
     "execution_count": 133,
     "metadata": {},
     "output_type": "execute_result"
    }
   ],
   "source": [
    "import pandas as pd\n",
    "\n",
    "df = pd.read_csv(train_file_path)\n",
    "raw_df = df\n",
    "raw_df"
   ],
   "metadata": {
    "collapsed": false
   }
  },
  {
   "cell_type": "code",
   "execution_count": 134,
   "outputs": [],
   "source": [
    "df_columns = df.columns\n",
    "nan_columns_summary = df.isnull().sum() != 0\n",
    "nan_columns = nan_columns_summary.index[nan_columns_summary].tolist()"
   ],
   "metadata": {
    "collapsed": false
   }
  },
  {
   "cell_type": "code",
   "execution_count": 135,
   "outputs": [],
   "source": [
    "type_to_imputer_strategy = {'float64': 'mean', 'object': 'most_frequent'}"
   ],
   "metadata": {
    "collapsed": false
   }
  },
  {
   "cell_type": "code",
   "execution_count": 136,
   "outputs": [
    {
     "data": {
      "text/plain": "    Pregnancies Gender Glucose BloodPressure SkinThickness Insulin   BMI  \\\n0             0      M     148            72            35       0  33.6   \n1             1      F      85            66            29       0  26.6   \n2             0      M     183            64             0       0  23.3   \n3             1      F      89            66            23      94  28.1   \n4             0      M     137            40            35     168  43.1   \n..          ...    ...     ...           ...           ...     ...   ...   \n763           3      F     101            76            48     180  32.9   \n764           2      F     122            70            27       0  36.8   \n765           0      M     121            72            23     112  26.2   \n766           1      F     126            60             0       0  30.1   \n767           1      F      93            70            31       0  30.4   \n\n    DiabetesPedigreeFunction Age Outcome CalorieIntake Exercise SleepDuration  \n0                      0.627  50       1        2508.3       No             6  \n1                      0.351  31       0          2760  Evening             8  \n2                      0.672  32       1          6480  Morning             8  \n3                      0.167  21       0        3639.6  Evening             8  \n4                      2.288  33       1          1970       No             9  \n..                       ...  ..     ...           ...      ...           ...  \n763                    0.171  63       0          2860  Morning             6  \n764                     0.34  27       0          3320  Morning             7  \n765                    0.245  30       0          3453  Evening             4  \n766                    0.349  47       1          8850       No             8  \n767                    0.315  23       0          2620     Both             8  \n\n[768 rows x 13 columns]",
      "text/html": "<div>\n<style scoped>\n    .dataframe tbody tr th:only-of-type {\n        vertical-align: middle;\n    }\n\n    .dataframe tbody tr th {\n        vertical-align: top;\n    }\n\n    .dataframe thead th {\n        text-align: right;\n    }\n</style>\n<table border=\"1\" class=\"dataframe\">\n  <thead>\n    <tr style=\"text-align: right;\">\n      <th></th>\n      <th>Pregnancies</th>\n      <th>Gender</th>\n      <th>Glucose</th>\n      <th>BloodPressure</th>\n      <th>SkinThickness</th>\n      <th>Insulin</th>\n      <th>BMI</th>\n      <th>DiabetesPedigreeFunction</th>\n      <th>Age</th>\n      <th>Outcome</th>\n      <th>CalorieIntake</th>\n      <th>Exercise</th>\n      <th>SleepDuration</th>\n    </tr>\n  </thead>\n  <tbody>\n    <tr>\n      <th>0</th>\n      <td>0</td>\n      <td>M</td>\n      <td>148</td>\n      <td>72</td>\n      <td>35</td>\n      <td>0</td>\n      <td>33.6</td>\n      <td>0.627</td>\n      <td>50</td>\n      <td>1</td>\n      <td>2508.3</td>\n      <td>No</td>\n      <td>6</td>\n    </tr>\n    <tr>\n      <th>1</th>\n      <td>1</td>\n      <td>F</td>\n      <td>85</td>\n      <td>66</td>\n      <td>29</td>\n      <td>0</td>\n      <td>26.6</td>\n      <td>0.351</td>\n      <td>31</td>\n      <td>0</td>\n      <td>2760</td>\n      <td>Evening</td>\n      <td>8</td>\n    </tr>\n    <tr>\n      <th>2</th>\n      <td>0</td>\n      <td>M</td>\n      <td>183</td>\n      <td>64</td>\n      <td>0</td>\n      <td>0</td>\n      <td>23.3</td>\n      <td>0.672</td>\n      <td>32</td>\n      <td>1</td>\n      <td>6480</td>\n      <td>Morning</td>\n      <td>8</td>\n    </tr>\n    <tr>\n      <th>3</th>\n      <td>1</td>\n      <td>F</td>\n      <td>89</td>\n      <td>66</td>\n      <td>23</td>\n      <td>94</td>\n      <td>28.1</td>\n      <td>0.167</td>\n      <td>21</td>\n      <td>0</td>\n      <td>3639.6</td>\n      <td>Evening</td>\n      <td>8</td>\n    </tr>\n    <tr>\n      <th>4</th>\n      <td>0</td>\n      <td>M</td>\n      <td>137</td>\n      <td>40</td>\n      <td>35</td>\n      <td>168</td>\n      <td>43.1</td>\n      <td>2.288</td>\n      <td>33</td>\n      <td>1</td>\n      <td>1970</td>\n      <td>No</td>\n      <td>9</td>\n    </tr>\n    <tr>\n      <th>...</th>\n      <td>...</td>\n      <td>...</td>\n      <td>...</td>\n      <td>...</td>\n      <td>...</td>\n      <td>...</td>\n      <td>...</td>\n      <td>...</td>\n      <td>...</td>\n      <td>...</td>\n      <td>...</td>\n      <td>...</td>\n      <td>...</td>\n    </tr>\n    <tr>\n      <th>763</th>\n      <td>3</td>\n      <td>F</td>\n      <td>101</td>\n      <td>76</td>\n      <td>48</td>\n      <td>180</td>\n      <td>32.9</td>\n      <td>0.171</td>\n      <td>63</td>\n      <td>0</td>\n      <td>2860</td>\n      <td>Morning</td>\n      <td>6</td>\n    </tr>\n    <tr>\n      <th>764</th>\n      <td>2</td>\n      <td>F</td>\n      <td>122</td>\n      <td>70</td>\n      <td>27</td>\n      <td>0</td>\n      <td>36.8</td>\n      <td>0.34</td>\n      <td>27</td>\n      <td>0</td>\n      <td>3320</td>\n      <td>Morning</td>\n      <td>7</td>\n    </tr>\n    <tr>\n      <th>765</th>\n      <td>0</td>\n      <td>M</td>\n      <td>121</td>\n      <td>72</td>\n      <td>23</td>\n      <td>112</td>\n      <td>26.2</td>\n      <td>0.245</td>\n      <td>30</td>\n      <td>0</td>\n      <td>3453</td>\n      <td>Evening</td>\n      <td>4</td>\n    </tr>\n    <tr>\n      <th>766</th>\n      <td>1</td>\n      <td>F</td>\n      <td>126</td>\n      <td>60</td>\n      <td>0</td>\n      <td>0</td>\n      <td>30.1</td>\n      <td>0.349</td>\n      <td>47</td>\n      <td>1</td>\n      <td>8850</td>\n      <td>No</td>\n      <td>8</td>\n    </tr>\n    <tr>\n      <th>767</th>\n      <td>1</td>\n      <td>F</td>\n      <td>93</td>\n      <td>70</td>\n      <td>31</td>\n      <td>0</td>\n      <td>30.4</td>\n      <td>0.315</td>\n      <td>23</td>\n      <td>0</td>\n      <td>2620</td>\n      <td>Both</td>\n      <td>8</td>\n    </tr>\n  </tbody>\n</table>\n<p>768 rows × 13 columns</p>\n</div>"
     },
     "execution_count": 136,
     "metadata": {},
     "output_type": "execute_result"
    }
   ],
   "source": [
    "import pandas as pd\n",
    "from sklearn.compose import ColumnTransformer\n",
    "from sklearn.impute import SimpleImputer\n",
    "\n",
    "# The transformers must be with the order of the columns, otherwise when we wrap it back to dataframe the columns will mix up\n",
    "transformers = []\n",
    "for feature in df_columns:\n",
    "    if feature in nan_columns:\n",
    "        transformers.append(\n",
    "            (f'{feature}_imputer', SimpleImputer(strategy=type_to_imputer_strategy[df[feature].dtype.name]), [feature]))\n",
    "    else:\n",
    "        transformers.append((f'{feature}_keeper', 'passthrough', [feature]))\n",
    "\n",
    "column_trans = ColumnTransformer(transformers)\n",
    "df_transformed_data = column_trans.fit_transform(df)\n",
    "df_transformed = pd.DataFrame(data=df_transformed_data, columns=df_columns)\n",
    "df_transformed"
   ],
   "metadata": {
    "collapsed": false
   }
  },
  {
   "cell_type": "code",
   "execution_count": 137,
   "outputs": [],
   "source": [
    "from sklearn.model_selection import train_test_split\n",
    "from src.test_binning import SEED\n",
    "\n",
    "df_train, df_test = train_test_split(df_transformed, test_size=0.25, random_state=SEED)\n",
    "df_train.reset_index(drop=True, inplace=True)\n",
    "df_test.reset_index(drop=True, inplace=True)"
   ],
   "metadata": {
    "collapsed": false
   }
  },
  {
   "cell_type": "code",
   "execution_count": 138,
   "outputs": [],
   "source": [
    "from src.data_preprocessing import preprocess_data\n",
    "\n",
    "x_train, y_train, x_test, y_test = preprocess_data(df_train, df_test, target_column_name)"
   ],
   "metadata": {
    "collapsed": false
   }
  },
  {
   "cell_type": "code",
   "execution_count": 139,
   "outputs": [
    {
     "name": "stdout",
     "output_type": "stream",
     "text": [
      "The score without binning is: 98.958\n"
     ]
    }
   ],
   "source": [
    "from src.test_binning import get_score_of_classification_model\n",
    "\n",
    "score_without_binning = get_score_of_classification_model(x_train=x_train, y_train=y_train, x_test=x_test,\n",
    "                                                          y_test=y_test)\n",
    "print(f\"The score without binning is: {score_without_binning:.3f}\")"
   ],
   "metadata": {
    "collapsed": false
   }
  },
  {
   "cell_type": "code",
   "execution_count": 140,
   "outputs": [],
   "source": [
    "from src.binner import apply_binning_on_column\n",
    "from src.alt_binning import find_optimal_binning_without_frequency\n",
    "\n",
    "\n",
    "def test_column(df_train, df_test, target_column_name, categorical_column_name):\n",
    "    optimal_binning = find_optimal_binning_without_frequency(df_train, target_column_name, categorical_column_name)\n",
    "\n",
    "    df_train_copy = df_train.copy()\n",
    "    df_test_copy = df_test.copy()\n",
    "    new_col_train = apply_binning_on_column(df_train_copy[categorical_column_name], optimal_binning)\n",
    "    df_train_copy[categorical_column_name] = new_col_train\n",
    "    new_col_test = apply_binning_on_column(df_test_copy[categorical_column_name], optimal_binning)\n",
    "    df_test_copy[categorical_column_name] = new_col_test\n",
    "\n",
    "    x_train, y_train, x_test, y_test = preprocess_data(df_train_copy, df_test_copy, target_column_name)\n",
    "    with_binning_score = get_score_of_classification_model(x_train, y_train, x_test, y_test)\n",
    "\n",
    "    return with_binning_score\n"
   ],
   "metadata": {
    "collapsed": false
   }
  },
  {
   "cell_type": "code",
   "execution_count": 141,
   "outputs": [],
   "source": [
    "def get_categorical_columns_by_range_of_uniqueness(df, min_unique, max_unique, target_column):\n",
    "    df = df.drop(target_column, axis=1)\n",
    "    a = df.nunique()\n",
    "    a = a.ge(min_unique) & a.le(max_unique)\n",
    "\n",
    "    return list(a[a].index)"
   ],
   "metadata": {
    "collapsed": false
   }
  },
  {
   "cell_type": "code",
   "execution_count": 142,
   "outputs": [
    {
     "name": "stdout",
     "output_type": "stream",
     "text": [
      "2 to test\n"
     ]
    }
   ],
   "source": [
    "min_unique = 5\n",
    "max_unique = 20\n",
    "\n",
    "categorical_columns = get_categorical_columns_by_range_of_uniqueness(df_train, min_unique=min_unique,\n",
    "                                                                     max_unique=max_unique, target_column=target_column_name)\n",
    "print(f'{len(categorical_columns)} to test')"
   ],
   "metadata": {
    "collapsed": false
   }
  },
  {
   "cell_type": "code",
   "execution_count": 143,
   "outputs": [
    {
     "name": "stderr",
     "output_type": "stream",
     "text": [
      " 50%|█████     | 1/2 [00:00<00:00,  1.16it/s]"
     ]
    },
    {
     "name": "stdout",
     "output_type": "stream",
     "text": [
      "Failure ):\n",
      "automatic_binning_score=98.438\n",
      "vanilla_score=98.958\n",
      "0.0\n"
     ]
    },
    {
     "name": "stderr",
     "output_type": "stream",
     "text": [
      "100%|██████████| 2/2 [00:17<00:00,  8.91s/it]"
     ]
    },
    {
     "name": "stdout",
     "output_type": "stream",
     "text": [
      "SUCCESS (:\n",
      "automatic_binning_score=99.479\n",
      "vanilla_score=98.958\n",
      "0.5\n"
     ]
    },
    {
     "name": "stderr",
     "output_type": "stream",
     "text": [
      "\n"
     ]
    }
   ],
   "source": [
    "from tqdm import tqdm\n",
    "\n",
    "success_columns = []\n",
    "failure_columns = []\n",
    "\n",
    "for column in tqdm(categorical_columns):\n",
    "    with_binning_score = test_column(df_train, df_test, target_column_name, categorical_column_name=column)\n",
    "\n",
    "    if with_binning_score > score_without_binning:\n",
    "        success_columns.append(column)\n",
    "        print('SUCCESS (:')\n",
    "    else:\n",
    "        failure_columns.append(column)\n",
    "        print('Failure ):')\n",
    "\n",
    "    print(f'automatic_binning_score={with_binning_score:.3f}\\nvanilla_score={score_without_binning:.3f}\\n{len(success_columns)/(len(success_columns) + len(failure_columns))}')"
   ],
   "metadata": {
    "collapsed": false
   }
  },
  {
   "cell_type": "code",
   "execution_count": 144,
   "outputs": [
    {
     "name": "stdout",
     "output_type": "stream",
     "text": [
      "1 of 2\n"
     ]
    }
   ],
   "source": [
    "print(f'{len(success_columns)} of {len(categorical_columns)}')"
   ],
   "metadata": {
    "collapsed": false
   }
  },
  {
   "cell_type": "markdown",
   "source": [
    "# The pipeline is completed\n",
    "# TODO: FIND more datasets with categorical features"
   ],
   "metadata": {
    "collapsed": false
   }
  },
  {
   "cell_type": "code",
   "execution_count": null,
   "outputs": [],
   "source": [],
   "metadata": {
    "collapsed": false,
    "pycharm": {
     "is_executing": true
    }
   }
  },
  {
   "cell_type": "code",
   "execution_count": null,
   "outputs": [],
   "source": [],
   "metadata": {
    "collapsed": false,
    "pycharm": {
     "is_executing": true
    }
   }
  }
 ],
 "metadata": {
  "kernelspec": {
   "display_name": "Python 3",
   "language": "python",
   "name": "python3"
  },
  "language_info": {
   "codemirror_mode": {
    "name": "ipython",
    "version": 2
   },
   "file_extension": ".py",
   "mimetype": "text/x-python",
   "name": "python",
   "nbconvert_exporter": "python",
   "pygments_lexer": "ipython2",
   "version": "2.7.6"
  }
 },
 "nbformat": 4,
 "nbformat_minor": 0
}
